{
 "cells": [
  {
   "cell_type": "markdown",
   "metadata": {},
   "source": [
    "# NHS Tie-Decay\n",
    "This notebook illustrates how to use the tie-decay code to load a temporal network dataset and analyze it."
   ]
  },
  {
   "cell_type": "code",
   "execution_count": 1,
   "metadata": {},
   "outputs": [],
   "source": [
    "import networkx as nx\n",
    "import numpy as np\n",
    "import operator\n",
    "import pandas as pd\n",
    "import pickle"
   ]
  },
  {
   "cell_type": "code",
   "execution_count": 2,
   "metadata": {},
   "outputs": [],
   "source": [
    "import seaborn as sns\n",
    "import matplotlib.pyplot as plt\n",
    "%matplotlib inline"
   ]
  },
  {
   "cell_type": "code",
   "execution_count": 3,
   "metadata": {},
   "outputs": [],
   "source": [
    "%load_ext autoreload"
   ]
  },
  {
   "cell_type": "code",
   "execution_count": 4,
   "metadata": {},
   "outputs": [],
   "source": [
    "%autoreload 2\n",
    "from tiedecay.construct import TieDecayNetwork\n",
    "from tiedecay.dataset import Dataset"
   ]
  },
  {
   "cell_type": "code",
   "execution_count": 5,
   "metadata": {},
   "outputs": [],
   "source": [
    "data_path = '../saved_data/NHSadjList.pkl'\n",
    "users_path = '../saved_data/NHSUsersDict.pkl'\n",
    "\n",
    "def open_file(file_path):\n",
    "    with open(file_path, 'rb') as f:\n",
    "        loaded = pickle.load(f)\n",
    "    return loaded\n",
    "\n",
    "raw_data, user_mapping = [open_file(data_path), open_file(users_path)]"
   ]
  },
  {
   "cell_type": "code",
   "execution_count": 6,
   "metadata": {},
   "outputs": [
    {
     "name": "stderr",
     "output_type": "stream",
     "text": [
      "  0%|          | 591/181123 [00:00<00:30, 5905.85it/s]"
     ]
    },
    {
     "name": "stdout",
     "output_type": "stream",
     "text": [
      "Sorting data...\n",
      "Data sorted!\n",
      "Converting to dictionary...\n"
     ]
    },
    {
     "name": "stderr",
     "output_type": "stream",
     "text": [
      "100%|██████████| 181123/181123 [00:19<00:00, 9524.44it/s] "
     ]
    },
    {
     "name": "stdout",
     "output_type": "stream",
     "text": [
      "Done.\n"
     ]
    },
    {
     "name": "stderr",
     "output_type": "stream",
     "text": [
      "\n"
     ]
    }
   ],
   "source": [
    "dataset = Dataset(raw_data, user_mapping)\n",
    "\n",
    "# half-life of one day\n",
    "alpha = np.log(2)/24/3600\n",
    "tdn = TieDecayNetwork(dataset, alpha=alpha)"
   ]
  },
  {
   "cell_type": "code",
   "execution_count": 7,
   "metadata": {},
   "outputs": [
    {
     "name": "stdout",
     "output_type": "stream",
     "text": [
      "There are 181123 interactions between 6866 out of 10000 total users.\n"
     ]
    }
   ],
   "source": [
    "print(f\"There are {dataset.num_interactions} interactions between {dataset.num_active_nodes} out of {dataset.num_nodes} total users.\")"
   ]
  },
  {
   "cell_type": "markdown",
   "metadata": {},
   "source": [
    "## Compute tie-decay graph at a given time"
   ]
  },
  {
   "cell_type": "code",
   "execution_count": 8,
   "metadata": {},
   "outputs": [
    {
     "name": "stdout",
     "output_type": "stream",
     "text": [
      "First time: 2012-03-05 20:41:46\n",
      "Last time: 2012-08-21 09:09:25\n"
     ]
    }
   ],
   "source": [
    "print(f'First time: {dataset.t_first}')\n",
    "print(f'Last time: {dataset.t_last}')"
   ]
  },
  {
   "cell_type": "code",
   "execution_count": 9,
   "metadata": {},
   "outputs": [],
   "source": [
    "t_select = '2012-06-01 00:00:00'"
   ]
  },
  {
   "cell_type": "code",
   "execution_count": 10,
   "metadata": {},
   "outputs": [
    {
     "name": "stdout",
     "output_type": "stream",
     "text": [
      "CPU times: user 4.89 s, sys: 37.9 ms, total: 4.92 s\n",
      "Wall time: 4.94 s\n"
     ]
    }
   ],
   "source": [
    "%%time\n",
    "B_t = tdn.compute_from_dataset(t_select)"
   ]
  },
  {
   "cell_type": "code",
   "execution_count": 11,
   "metadata": {},
   "outputs": [
    {
     "data": {
      "text/plain": [
       "[('DrEoinClarke', 0.03488304921961217),\n",
       " ('UNISONNews', 0.022027615494192323),\n",
       " ('cpeedell', 0.01886850730093457),\n",
       " ('marcuschown', 0.01829971817038913),\n",
       " ('HSJEditor', 0.012573633772413956),\n",
       " ('PeteDeveson', 0.009318647917471546),\n",
       " ('NottsTUC', 0.00927316433662939),\n",
       " ('andyburnhammp', 0.008886730251067648),\n",
       " ('HPIAndyCowper', 0.008319353420206916),\n",
       " ('mellojonny', 0.008259652601786599)]"
      ]
     },
     "execution_count": 11,
     "metadata": {},
     "output_type": "execute_result"
    }
   ],
   "source": [
    "# top 10 nodes by Tie-Decay PageRank at `t_select`\n",
    "top_10_users = sorted(nx.pagerank(B_t).items(), key=operator.itemgetter(1), reverse=True)[:10]\n",
    "top_10_users = [(dataset.node_mapping[x], y) for x,y in top_10_users]\n",
    "top_10_users"
   ]
  },
  {
   "cell_type": "markdown",
   "metadata": {},
   "source": [
    "## Compute tie-decay centrality trajectories\n",
    "Performant way of calculating centrality values sampled at equal intervals."
   ]
  },
  {
   "cell_type": "code",
   "execution_count": 12,
   "metadata": {},
   "outputs": [
    {
     "name": "stderr",
     "output_type": "stream",
     "text": [
      "/Users/walid/Desktop/Network-Analysis/TieDecayBetter/tiedecay/construct.py:138: SettingWithCopyWarning: \n",
      "A value is trying to be set on a copy of a slice from a DataFrame.\n",
      "Try using .loc[row_indexer,col_indexer] = value instead\n",
      "\n",
      "See the caveats in the documentation: https://pandas.pydata.org/pandas-docs/stable/user_guide/indexing.html#returning-a-view-versus-a-copy\n",
      "  df_init[\"weight\"] = 1.0\n",
      "  2%|▏         | 24/1001 [00:02<01:56,  8.40it/s]/Users/walid/Desktop/Network-Analysis/TieDecayBetter/tiedecay/construct.py:84: SettingWithCopyWarning: \n",
      "A value is trying to be set on a copy of a slice from a DataFrame.\n",
      "Try using .loc[row_indexer,col_indexer] = value instead\n",
      "\n",
      "See the caveats in the documentation: https://pandas.pydata.org/pandas-docs/stable/user_guide/indexing.html#returning-a-view-versus-a-copy\n",
      "  df[\"weight\"] = df.apply(\n",
      "/Users/walid/miniconda3/envs/tiedecay_env/lib/python3.8/site-packages/pandas/core/generic.py:5303: SettingWithCopyWarning: \n",
      "A value is trying to be set on a copy of a slice from a DataFrame.\n",
      "Try using .loc[row_indexer,col_indexer] = value instead\n",
      "\n",
      "See the caveats in the documentation: https://pandas.pydata.org/pandas-docs/stable/user_guide/indexing.html#returning-a-view-versus-a-copy\n",
      "  self[name] = value\n",
      "100%|██████████| 1001/1001 [13:58<00:00,  1.19it/s]\n"
     ]
    }
   ],
   "source": [
    "centrality_df = tdn.compute_centrality_trajectories_from_dataset(1000, 'pagerank')"
   ]
  },
  {
   "cell_type": "code",
   "execution_count": 13,
   "metadata": {},
   "outputs": [
    {
     "data": {
      "text/html": [
       "<div>\n",
       "<style scoped>\n",
       "    .dataframe tbody tr th:only-of-type {\n",
       "        vertical-align: middle;\n",
       "    }\n",
       "\n",
       "    .dataframe tbody tr th {\n",
       "        vertical-align: top;\n",
       "    }\n",
       "\n",
       "    .dataframe thead th {\n",
       "        text-align: right;\n",
       "    }\n",
       "</style>\n",
       "<table border=\"1\" class=\"dataframe\">\n",
       "  <thead>\n",
       "    <tr style=\"text-align: right;\">\n",
       "      <th></th>\n",
       "      <th>2012-03-06 00:44:26</th>\n",
       "      <th>2012-03-06 04:47:06</th>\n",
       "      <th>2012-03-06 08:49:46</th>\n",
       "      <th>2012-03-06 12:52:26</th>\n",
       "      <th>2012-03-06 16:55:06</th>\n",
       "      <th>2012-03-06 20:57:46</th>\n",
       "      <th>2012-03-07 01:00:26</th>\n",
       "      <th>2012-03-07 05:03:06</th>\n",
       "      <th>2012-03-07 09:05:46</th>\n",
       "      <th>2012-03-07 13:08:26</th>\n",
       "      <th>...</th>\n",
       "      <th>2012-08-19 20:44:26</th>\n",
       "      <th>2012-08-20 00:47:06</th>\n",
       "      <th>2012-08-20 04:49:46</th>\n",
       "      <th>2012-08-20 08:52:26</th>\n",
       "      <th>2012-08-20 12:55:06</th>\n",
       "      <th>2012-08-20 16:57:46</th>\n",
       "      <th>2012-08-20 21:00:26</th>\n",
       "      <th>2012-08-21 01:03:06</th>\n",
       "      <th>2012-08-21 05:05:46</th>\n",
       "      <th>2012-08-21 09:08:26</th>\n",
       "    </tr>\n",
       "  </thead>\n",
       "  <tbody>\n",
       "    <tr>\n",
       "      <th>1567</th>\n",
       "      <td>0.000100</td>\n",
       "      <td>0.000100</td>\n",
       "      <td>0.000100</td>\n",
       "      <td>0.000100</td>\n",
       "      <td>0.000100</td>\n",
       "      <td>0.000100</td>\n",
       "      <td>0.000100</td>\n",
       "      <td>0.000100</td>\n",
       "      <td>0.000100</td>\n",
       "      <td>0.000100</td>\n",
       "      <td>...</td>\n",
       "      <td>0.000104</td>\n",
       "      <td>0.000104</td>\n",
       "      <td>0.000109</td>\n",
       "      <td>0.000109</td>\n",
       "      <td>0.000109</td>\n",
       "      <td>0.000110</td>\n",
       "      <td>0.000111</td>\n",
       "      <td>0.000110</td>\n",
       "      <td>0.000111</td>\n",
       "      <td>0.000111</td>\n",
       "    </tr>\n",
       "    <tr>\n",
       "      <th>4771</th>\n",
       "      <td>0.000185</td>\n",
       "      <td>0.000185</td>\n",
       "      <td>0.000185</td>\n",
       "      <td>0.000185</td>\n",
       "      <td>0.000185</td>\n",
       "      <td>0.000185</td>\n",
       "      <td>0.000185</td>\n",
       "      <td>0.000185</td>\n",
       "      <td>0.000185</td>\n",
       "      <td>0.000185</td>\n",
       "      <td>...</td>\n",
       "      <td>0.009645</td>\n",
       "      <td>0.010112</td>\n",
       "      <td>0.010456</td>\n",
       "      <td>0.010250</td>\n",
       "      <td>0.009462</td>\n",
       "      <td>0.009071</td>\n",
       "      <td>0.010016</td>\n",
       "      <td>0.021044</td>\n",
       "      <td>0.020343</td>\n",
       "      <td>0.023460</td>\n",
       "    </tr>\n",
       "    <tr>\n",
       "      <th>0</th>\n",
       "      <td>0.000100</td>\n",
       "      <td>0.000100</td>\n",
       "      <td>0.000100</td>\n",
       "      <td>0.000100</td>\n",
       "      <td>0.000100</td>\n",
       "      <td>0.000100</td>\n",
       "      <td>0.000100</td>\n",
       "      <td>0.000100</td>\n",
       "      <td>0.000100</td>\n",
       "      <td>0.000100</td>\n",
       "      <td>...</td>\n",
       "      <td>0.000056</td>\n",
       "      <td>0.000056</td>\n",
       "      <td>0.000059</td>\n",
       "      <td>0.000059</td>\n",
       "      <td>0.000059</td>\n",
       "      <td>0.000059</td>\n",
       "      <td>0.000060</td>\n",
       "      <td>0.000060</td>\n",
       "      <td>0.000060</td>\n",
       "      <td>0.000060</td>\n",
       "    </tr>\n",
       "    <tr>\n",
       "      <th>1</th>\n",
       "      <td>0.000100</td>\n",
       "      <td>0.000100</td>\n",
       "      <td>0.000100</td>\n",
       "      <td>0.000100</td>\n",
       "      <td>0.000100</td>\n",
       "      <td>0.000100</td>\n",
       "      <td>0.000100</td>\n",
       "      <td>0.000100</td>\n",
       "      <td>0.000100</td>\n",
       "      <td>0.000100</td>\n",
       "      <td>...</td>\n",
       "      <td>0.000366</td>\n",
       "      <td>0.000361</td>\n",
       "      <td>0.000332</td>\n",
       "      <td>0.000334</td>\n",
       "      <td>0.000344</td>\n",
       "      <td>0.000351</td>\n",
       "      <td>0.000338</td>\n",
       "      <td>0.000339</td>\n",
       "      <td>0.000341</td>\n",
       "      <td>0.000205</td>\n",
       "    </tr>\n",
       "    <tr>\n",
       "      <th>2</th>\n",
       "      <td>0.000100</td>\n",
       "      <td>0.000100</td>\n",
       "      <td>0.000100</td>\n",
       "      <td>0.000100</td>\n",
       "      <td>0.000100</td>\n",
       "      <td>0.000100</td>\n",
       "      <td>0.000100</td>\n",
       "      <td>0.000100</td>\n",
       "      <td>0.000100</td>\n",
       "      <td>0.000100</td>\n",
       "      <td>...</td>\n",
       "      <td>0.000056</td>\n",
       "      <td>0.000056</td>\n",
       "      <td>0.000059</td>\n",
       "      <td>0.000059</td>\n",
       "      <td>0.000059</td>\n",
       "      <td>0.000059</td>\n",
       "      <td>0.000060</td>\n",
       "      <td>0.000060</td>\n",
       "      <td>0.000060</td>\n",
       "      <td>0.000060</td>\n",
       "    </tr>\n",
       "  </tbody>\n",
       "</table>\n",
       "<p>5 rows × 1000 columns</p>\n",
       "</div>"
      ],
      "text/plain": [
       "      2012-03-06 00:44:26  2012-03-06 04:47:06  2012-03-06 08:49:46  \\\n",
       "1567             0.000100             0.000100             0.000100   \n",
       "4771             0.000185             0.000185             0.000185   \n",
       "0                0.000100             0.000100             0.000100   \n",
       "1                0.000100             0.000100             0.000100   \n",
       "2                0.000100             0.000100             0.000100   \n",
       "\n",
       "      2012-03-06 12:52:26  2012-03-06 16:55:06  2012-03-06 20:57:46  \\\n",
       "1567             0.000100             0.000100             0.000100   \n",
       "4771             0.000185             0.000185             0.000185   \n",
       "0                0.000100             0.000100             0.000100   \n",
       "1                0.000100             0.000100             0.000100   \n",
       "2                0.000100             0.000100             0.000100   \n",
       "\n",
       "      2012-03-07 01:00:26  2012-03-07 05:03:06  2012-03-07 09:05:46  \\\n",
       "1567             0.000100             0.000100             0.000100   \n",
       "4771             0.000185             0.000185             0.000185   \n",
       "0                0.000100             0.000100             0.000100   \n",
       "1                0.000100             0.000100             0.000100   \n",
       "2                0.000100             0.000100             0.000100   \n",
       "\n",
       "      2012-03-07 13:08:26  ...  2012-08-19 20:44:26  2012-08-20 00:47:06  \\\n",
       "1567             0.000100  ...             0.000104             0.000104   \n",
       "4771             0.000185  ...             0.009645             0.010112   \n",
       "0                0.000100  ...             0.000056             0.000056   \n",
       "1                0.000100  ...             0.000366             0.000361   \n",
       "2                0.000100  ...             0.000056             0.000056   \n",
       "\n",
       "      2012-08-20 04:49:46  2012-08-20 08:52:26  2012-08-20 12:55:06  \\\n",
       "1567             0.000109             0.000109             0.000109   \n",
       "4771             0.010456             0.010250             0.009462   \n",
       "0                0.000059             0.000059             0.000059   \n",
       "1                0.000332             0.000334             0.000344   \n",
       "2                0.000059             0.000059             0.000059   \n",
       "\n",
       "      2012-08-20 16:57:46  2012-08-20 21:00:26  2012-08-21 01:03:06  \\\n",
       "1567             0.000110             0.000111             0.000110   \n",
       "4771             0.009071             0.010016             0.021044   \n",
       "0                0.000059             0.000060             0.000060   \n",
       "1                0.000351             0.000338             0.000339   \n",
       "2                0.000059             0.000060             0.000060   \n",
       "\n",
       "      2012-08-21 05:05:46  2012-08-21 09:08:26  \n",
       "1567             0.000111             0.000111  \n",
       "4771             0.020343             0.023460  \n",
       "0                0.000060             0.000060  \n",
       "1                0.000341             0.000205  \n",
       "2                0.000060             0.000060  \n",
       "\n",
       "[5 rows x 1000 columns]"
      ]
     },
     "execution_count": 13,
     "metadata": {},
     "output_type": "execute_result"
    }
   ],
   "source": [
    "centrality_df.head()"
   ]
  },
  {
   "cell_type": "code",
   "execution_count": 19,
   "metadata": {},
   "outputs": [
    {
     "data": {
      "text/plain": [
       "Text(0, 0.5, 'DrEoinClarke')"
      ]
     },
     "execution_count": 19,
     "metadata": {},
     "output_type": "execute_result"
    },
    {
     "data": {
      "image/png": "[encoded data removed]",
      "text/plain": [
       "<Figure size 432x288 with 1 Axes>"
      ]
     },
     "metadata": {
      "needs_background": "light"
     },
     "output_type": "display_data"
    }
   ],
   "source": [
    "plot_df = centrality_df.sort_values(by=centrality_df.columns[-1], ascending=False)\n",
    "sns.lineplot(x=plot_df.columns, y=plot_df.iloc[0,:])\n",
    "plt.ylabel(dataset.node_mapping[plot_df.iloc[0].name])"
   ]
  }
 ],
 "metadata": {
  "kernelspec": {
   "display_name": "Python [conda env:tiedecay_env]",
   "language": "python",
   "name": "conda-env-tiedecay_env-py"
  },
  "language_info": {
   "codemirror_mode": {
    "name": "ipython",
    "version": 3
   },
   "file_extension": ".py",
   "mimetype": "text/x-python",
   "name": "python",
   "nbconvert_exporter": "python",
   "pygments_lexer": "ipython3",
   "version": "3.8.3"
  }
 },
 "nbformat": 4,
 "nbformat_minor": 4
}
